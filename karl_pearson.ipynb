{
 "metadata": {
  "language_info": {
   "codemirror_mode": {
    "name": "ipython",
    "version": 3
   },
   "file_extension": ".py",
   "mimetype": "text/x-python",
   "name": "python",
   "nbconvert_exporter": "python",
   "pygments_lexer": "ipython3",
   "version": "3.7.7-final"
  },
  "orig_nbformat": 2,
  "kernelspec": {
   "name": "python3",
   "display_name": "Python 3",
   "language": "python"
  }
 },
 "nbformat": 4,
 "nbformat_minor": 2,
 "cells": [
  {
   "source": [
    "# Karl Pearson's\n",
    "\n",
    "Aulia Khalqillah"
   ],
   "cell_type": "markdown",
   "metadata": {}
  },
  {
   "source": [
    "## Membuat Fungsi Perhitungan Korelasi Karl Pearson's"
   ],
   "cell_type": "markdown",
   "metadata": {}
  },
  {
   "cell_type": "code",
   "execution_count": 94,
   "metadata": {},
   "outputs": [],
   "source": [
    "def calpearson(x,y):\n",
    "    if (len(x) != len(y)):\n",
    "        print('Data length is not equal')\n",
    "    else:\n",
    "        n = len(x)\n",
    "        sumx = 0\n",
    "        sumy = 0\n",
    "        for i in range(n):\n",
    "            sumx = sumx + x[i]\n",
    "            sumy = sumy + y[i]\n",
    "        \n",
    "        xmean = sumx/n\n",
    "        ymean = sumy/n\n",
    "        tot = 0\n",
    "        xseg = 0\n",
    "        yseg = 0\n",
    "        for i in range(len(x)):\n",
    "            tot = tot + ((x[i]-xmean)*(y[i]-ymean))\n",
    "            xseg = xseg + (x[i]-xmean)**2\n",
    "            yseg = yseg + (y[i]-ymean)**2\n",
    "        r = tot/(xseg*yseg)**0.5\n",
    "        return r"
   ]
  },
  {
   "source": [
    "## Menuliskan Data"
   ],
   "cell_type": "markdown",
   "metadata": {}
  },
  {
   "cell_type": "code",
   "execution_count": 95,
   "metadata": {},
   "outputs": [],
   "source": [
    "physics_score = [15,12,8,8,7,7,7,6,5,3]\n",
    "history_score = [10,25,17,11,13,17,20,13,9,15]"
   ]
  },
  {
   "source": [
    "## Menghitung Korelasi Kedua Data Data Menggunakan Metode Karl Pearson's"
   ],
   "cell_type": "markdown",
   "metadata": {}
  },
  {
   "cell_type": "code",
   "execution_count": 104,
   "metadata": {},
   "outputs": [
    {
     "output_type": "stream",
     "name": "stdout",
     "text": [
      "0.145\n"
     ]
    }
   ],
   "source": [
    "r = calpearson(physics_score,history_score)\n",
    "print('%.3f' % r)"
   ]
  }
 ]
}